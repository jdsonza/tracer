{
 "metadata": {
  "language_info": {
   "codemirror_mode": {
    "name": "ipython",
    "version": 3
   },
   "file_extension": ".py",
   "mimetype": "text/x-python",
   "name": "python",
   "nbconvert_exporter": "python",
   "pygments_lexer": "ipython3",
   "version": "3.8.5-final"
  },
  "orig_nbformat": 2,
  "kernelspec": {
   "name": "python3",
   "display_name": "Python 3.8.5 64-bit (conda)",
   "metadata": {
    "interpreter": {
     "hash": "a351676dbb16cb05612f574802cb89b801c58a61c398e5e748ad3c1a3c29b8ee"
    }
   }
  }
 },
 "nbformat": 4,
 "nbformat_minor": 2,
 "cells": [
  {
   "source": [
    "import pandas as pd  \n",
    "import numpy as np\n",
    "from pathlib import Path"
   ],
   "cell_type": "code",
   "metadata": {},
   "execution_count": 1,
   "outputs": []
  },
  {
   "cell_type": "code",
   "execution_count": 2,
   "metadata": {},
   "outputs": [],
   "source": [
    "class_register_dir = Path.cwd() / 'class-registers'\n",
    "class_register = pd.read_excel(class_register_dir / 'test_sheet.xlsx',parse_dates=False)\n",
    "class_register.columns = class_register.columns.str.replace(\" \",\"_\")"
   ]
  },
  {
   "cell_type": "code",
   "execution_count": 3,
   "metadata": {},
   "outputs": [],
   "source": [
    "class_register.Appointment_Time = pd.to_datetime(class_register[\"Appointment_Time\"])"
   ]
  },
  {
   "cell_type": "code",
   "execution_count": 4,
   "metadata": {},
   "outputs": [
    {
     "output_type": "execute_result",
     "data": {
      "text/plain": [
       "                   Event_Name Attendees'_User_ID    Appointment_Time  \\\n",
       "1   EEE2045F Tutorial Group 1          INFECT001 2021-03-22 09:00:00   \n",
       "8             EEE2045F Prac 1          INFECT001 2021-03-23 11:00:00   \n",
       "15  EEE2045F Tutorial Group 1          INFECT001 2021-03-29 09:00:00   \n",
       "19            EEE2045F Prac 2          INFECT001 2021-05-31 14:00:00   \n",
       "\n",
       "      Location  \n",
       "1   Menzies 10  \n",
       "8    White Lab  \n",
       "15  Menzies 10  \n",
       "19   White Lab  "
      ],
      "text/html": "<div>\n<style scoped>\n    .dataframe tbody tr th:only-of-type {\n        vertical-align: middle;\n    }\n\n    .dataframe tbody tr th {\n        vertical-align: top;\n    }\n\n    .dataframe thead th {\n        text-align: right;\n    }\n</style>\n<table border=\"1\" class=\"dataframe\">\n  <thead>\n    <tr style=\"text-align: right;\">\n      <th></th>\n      <th>Event_Name</th>\n      <th>Attendees'_User_ID</th>\n      <th>Appointment_Time</th>\n      <th>Location</th>\n    </tr>\n  </thead>\n  <tbody>\n    <tr>\n      <th>1</th>\n      <td>EEE2045F Tutorial Group 1</td>\n      <td>INFECT001</td>\n      <td>2021-03-22 09:00:00</td>\n      <td>Menzies 10</td>\n    </tr>\n    <tr>\n      <th>8</th>\n      <td>EEE2045F Prac 1</td>\n      <td>INFECT001</td>\n      <td>2021-03-23 11:00:00</td>\n      <td>White Lab</td>\n    </tr>\n    <tr>\n      <th>15</th>\n      <td>EEE2045F Tutorial Group 1</td>\n      <td>INFECT001</td>\n      <td>2021-03-29 09:00:00</td>\n      <td>Menzies 10</td>\n    </tr>\n    <tr>\n      <th>19</th>\n      <td>EEE2045F Prac 2</td>\n      <td>INFECT001</td>\n      <td>2021-05-31 14:00:00</td>\n      <td>White Lab</td>\n    </tr>\n  </tbody>\n</table>\n</div>"
     },
     "metadata": {},
     "execution_count": 4
    }
   ],
   "source": [
    "class_register.query(\"Attendee_Name=='Infected'\").filter(items=['Event_Name',\"Attendees\\'_User_ID\",'Appointment_Time', 'Location'])"
   ]
  },
  {
   "cell_type": "code",
   "execution_count": 5,
   "metadata": {},
   "outputs": [
    {
     "output_type": "stream",
     "name": "stdout",
     "text": [
      "      Appointment_Time    Location\n1  2021-03-22 09:00:00  Menzies 10\n8  2021-03-23 11:00:00   White Lab\n15 2021-03-29 09:00:00  Menzies 10\n19 2021-05-31 14:00:00   White Lab\n"
     ]
    }
   ],
   "source": [
    "positive_time_location = class_register.query(\"Attendee_Name=='Infected'\").filter(items=['Appointment_Time', 'Location']) \n",
    "print(positive_time_location)"
   ]
  },
  {
   "cell_type": "code",
   "execution_count": 6,
   "metadata": {},
   "outputs": [
    {
     "output_type": "execute_result",
     "data": {
      "text/plain": [
       "                   Event_Name Attendee_Name Attendees'_User_ID  \\\n",
       "0   EEE2045F Tutorial Group 1   Son, Jarryd           01445766   \n",
       "1   EEE2045F Tutorial Group 1      Infected          INFECT001   \n",
       "2   EEE2045F Tutorial Group 1      contact1          CONTAC001   \n",
       "3   EEE2045F Tutorial Group 1      contact2          CONTAC002   \n",
       "7             EEE2045F Prac 1   Son, Jarryd           01445766   \n",
       "8             EEE2045F Prac 1      Infected          INFECT001   \n",
       "9             EEE2045F Prac 1      contact2          CONTAC002   \n",
       "10            EEE2045F Prac 1      contact3          CONTAC003   \n",
       "14  EEE2045F Tutorial Group 1   Son, Jarryd           01445766   \n",
       "15  EEE2045F Tutorial Group 1      Infected          INFECT001   \n",
       "16  EEE2045F Tutorial Group 1      contact1          CONTAC001   \n",
       "17  EEE2045F Tutorial Group 1      contact2          CONTAC002   \n",
       "18            EEE2045F Prac 2   Son, Jarryd           01445766   \n",
       "19            EEE2045F Prac 2      Infected          INFECT001   \n",
       "20            EEE2045F Prac 2      contact2          CONTAC002   \n",
       "21            EEE2045F Prac 2      contact3          CONTAC003   \n",
       "\n",
       "                    Email        Site_Title    Appointment_Time  \\\n",
       "0    jarryd.son@uct.ac.za  Register Testing 2021-03-22 09:00:00   \n",
       "1   INFECT001@myuct.ac.za  Register Testing 2021-03-22 09:00:00   \n",
       "2   CONTAC001@myuct.ac.za  Register Testing 2021-03-22 09:00:00   \n",
       "3   CONTAC002@myuct.ac.za  Register Testing 2021-03-22 09:00:00   \n",
       "7    jarryd.son@uct.ac.za  Register Testing 2021-03-23 11:00:00   \n",
       "8   INFECT001@myuct.ac.za  Register Testing 2021-03-23 11:00:00   \n",
       "9   CONTAC002@myuct.ac.za  Register Testing 2021-03-23 11:00:00   \n",
       "10  CONTAC003@myuct.ac.za  Register Testing 2021-03-23 11:00:00   \n",
       "14   jarryd.son@uct.ac.za  Register Testing 2021-03-29 09:00:00   \n",
       "15  INFECT001@myuct.ac.za  Register Testing 2021-03-29 09:00:00   \n",
       "16  CONTAC001@myuct.ac.za  Register Testing 2021-03-29 09:00:00   \n",
       "17  CONTAC002@myuct.ac.za  Register Testing 2021-03-29 09:00:00   \n",
       "18   jarryd.son@uct.ac.za  Register Testing 2021-05-31 14:00:00   \n",
       "19  INFECT001@myuct.ac.za  Register Testing 2021-05-31 14:00:00   \n",
       "20  CONTAC002@myuct.ac.za  Register Testing 2021-05-31 14:00:00   \n",
       "21  CONTAC003@myuct.ac.za  Register Testing 2021-05-31 14:00:00   \n",
       "\n",
       "    Duration_(min)  #Num_Attendees_in_Slot  Attendees'_Comment   Organizer  \\\n",
       "0              225                       4                 NaN  Jarryd Son   \n",
       "1              225                       4                 NaN  Jarryd Son   \n",
       "2              225                       4                 NaN  Jarryd Son   \n",
       "3              225                       4                 NaN  Jarryd Son   \n",
       "7              105                       4                 NaN  Jarryd Son   \n",
       "8              105                       4                 NaN  Jarryd Son   \n",
       "9              105                       4                 NaN  Jarryd Son   \n",
       "10             105                       4                 NaN  Jarryd Son   \n",
       "14             225                       4                 NaN  Jarryd Son   \n",
       "15             225                       4                 NaN  Jarryd Son   \n",
       "16             225                       4                 NaN  Jarryd Son   \n",
       "17             225                       4                 NaN  Jarryd Son   \n",
       "18             105                       4                 NaN  Jarryd Son   \n",
       "19             105                       4                 NaN  Jarryd Son   \n",
       "20             105                       4                 NaN  Jarryd Son   \n",
       "21             105                       4                 NaN  Jarryd Son   \n",
       "\n",
       "      Location   Category     Event_Start_Time  Event_Duration_(min)  \n",
       "0   Menzies 10   Tutorial    22-Mar-2021 09:00                   225  \n",
       "1   Menzies 10   Tutorial    22-Mar-2021 09:00                   225  \n",
       "2   Menzies 10   Tutorial    22-Mar-2021 09:00                   225  \n",
       "3   Menzies 10   Tutorial    22-Mar-2021 09:00                   225  \n",
       "7    White Lab  Practical    23-Mar-2021 08:00                   465  \n",
       "8    White Lab  Practical    23-Mar-2021 08:01                   466  \n",
       "9    White Lab  Practical    23-Mar-2021 08:01                   466  \n",
       "10   White Lab  Practical    23-Mar-2021 08:01                   466  \n",
       "14  Menzies 10   Tutorial    29-Mar-2021 09:00                   225  \n",
       "15  Menzies 10   Tutorial    29-Mar-2021 09:00                   225  \n",
       "16  Menzies 10   Tutorial    29-Mar-2021 09:00                   225  \n",
       "17  Menzies 10   Tutorial    29-Mar-2021 09:00                   225  \n",
       "18   White Lab  Practical  2021-05-31 08:00:00                   465  \n",
       "19   White Lab  Practical  2021-05-31 08:00:00                   465  \n",
       "20   White Lab  Practical  2021-05-31 08:00:00                   465  \n",
       "21   White Lab  Practical  2021-05-31 08:00:00                   465  "
      ],
      "text/html": "<div>\n<style scoped>\n    .dataframe tbody tr th:only-of-type {\n        vertical-align: middle;\n    }\n\n    .dataframe tbody tr th {\n        vertical-align: top;\n    }\n\n    .dataframe thead th {\n        text-align: right;\n    }\n</style>\n<table border=\"1\" class=\"dataframe\">\n  <thead>\n    <tr style=\"text-align: right;\">\n      <th></th>\n      <th>Event_Name</th>\n      <th>Attendee_Name</th>\n      <th>Attendees'_User_ID</th>\n      <th>Email</th>\n      <th>Site_Title</th>\n      <th>Appointment_Time</th>\n      <th>Duration_(min)</th>\n      <th>#Num_Attendees_in_Slot</th>\n      <th>Attendees'_Comment</th>\n      <th>Organizer</th>\n      <th>Location</th>\n      <th>Category</th>\n      <th>Event_Start_Time</th>\n      <th>Event_Duration_(min)</th>\n    </tr>\n  </thead>\n  <tbody>\n    <tr>\n      <th>0</th>\n      <td>EEE2045F Tutorial Group 1</td>\n      <td>Son, Jarryd</td>\n      <td>01445766</td>\n      <td>jarryd.son@uct.ac.za</td>\n      <td>Register Testing</td>\n      <td>2021-03-22 09:00:00</td>\n      <td>225</td>\n      <td>4</td>\n      <td>NaN</td>\n      <td>Jarryd Son</td>\n      <td>Menzies 10</td>\n      <td>Tutorial</td>\n      <td>22-Mar-2021 09:00</td>\n      <td>225</td>\n    </tr>\n    <tr>\n      <th>1</th>\n      <td>EEE2045F Tutorial Group 1</td>\n      <td>Infected</td>\n      <td>INFECT001</td>\n      <td>INFECT001@myuct.ac.za</td>\n      <td>Register Testing</td>\n      <td>2021-03-22 09:00:00</td>\n      <td>225</td>\n      <td>4</td>\n      <td>NaN</td>\n      <td>Jarryd Son</td>\n      <td>Menzies 10</td>\n      <td>Tutorial</td>\n      <td>22-Mar-2021 09:00</td>\n      <td>225</td>\n    </tr>\n    <tr>\n      <th>2</th>\n      <td>EEE2045F Tutorial Group 1</td>\n      <td>contact1</td>\n      <td>CONTAC001</td>\n      <td>CONTAC001@myuct.ac.za</td>\n      <td>Register Testing</td>\n      <td>2021-03-22 09:00:00</td>\n      <td>225</td>\n      <td>4</td>\n      <td>NaN</td>\n      <td>Jarryd Son</td>\n      <td>Menzies 10</td>\n      <td>Tutorial</td>\n      <td>22-Mar-2021 09:00</td>\n      <td>225</td>\n    </tr>\n    <tr>\n      <th>3</th>\n      <td>EEE2045F Tutorial Group 1</td>\n      <td>contact2</td>\n      <td>CONTAC002</td>\n      <td>CONTAC002@myuct.ac.za</td>\n      <td>Register Testing</td>\n      <td>2021-03-22 09:00:00</td>\n      <td>225</td>\n      <td>4</td>\n      <td>NaN</td>\n      <td>Jarryd Son</td>\n      <td>Menzies 10</td>\n      <td>Tutorial</td>\n      <td>22-Mar-2021 09:00</td>\n      <td>225</td>\n    </tr>\n    <tr>\n      <th>7</th>\n      <td>EEE2045F Prac 1</td>\n      <td>Son, Jarryd</td>\n      <td>01445766</td>\n      <td>jarryd.son@uct.ac.za</td>\n      <td>Register Testing</td>\n      <td>2021-03-23 11:00:00</td>\n      <td>105</td>\n      <td>4</td>\n      <td>NaN</td>\n      <td>Jarryd Son</td>\n      <td>White Lab</td>\n      <td>Practical</td>\n      <td>23-Mar-2021 08:00</td>\n      <td>465</td>\n    </tr>\n    <tr>\n      <th>8</th>\n      <td>EEE2045F Prac 1</td>\n      <td>Infected</td>\n      <td>INFECT001</td>\n      <td>INFECT001@myuct.ac.za</td>\n      <td>Register Testing</td>\n      <td>2021-03-23 11:00:00</td>\n      <td>105</td>\n      <td>4</td>\n      <td>NaN</td>\n      <td>Jarryd Son</td>\n      <td>White Lab</td>\n      <td>Practical</td>\n      <td>23-Mar-2021 08:01</td>\n      <td>466</td>\n    </tr>\n    <tr>\n      <th>9</th>\n      <td>EEE2045F Prac 1</td>\n      <td>contact2</td>\n      <td>CONTAC002</td>\n      <td>CONTAC002@myuct.ac.za</td>\n      <td>Register Testing</td>\n      <td>2021-03-23 11:00:00</td>\n      <td>105</td>\n      <td>4</td>\n      <td>NaN</td>\n      <td>Jarryd Son</td>\n      <td>White Lab</td>\n      <td>Practical</td>\n      <td>23-Mar-2021 08:01</td>\n      <td>466</td>\n    </tr>\n    <tr>\n      <th>10</th>\n      <td>EEE2045F Prac 1</td>\n      <td>contact3</td>\n      <td>CONTAC003</td>\n      <td>CONTAC003@myuct.ac.za</td>\n      <td>Register Testing</td>\n      <td>2021-03-23 11:00:00</td>\n      <td>105</td>\n      <td>4</td>\n      <td>NaN</td>\n      <td>Jarryd Son</td>\n      <td>White Lab</td>\n      <td>Practical</td>\n      <td>23-Mar-2021 08:01</td>\n      <td>466</td>\n    </tr>\n    <tr>\n      <th>14</th>\n      <td>EEE2045F Tutorial Group 1</td>\n      <td>Son, Jarryd</td>\n      <td>01445766</td>\n      <td>jarryd.son@uct.ac.za</td>\n      <td>Register Testing</td>\n      <td>2021-03-29 09:00:00</td>\n      <td>225</td>\n      <td>4</td>\n      <td>NaN</td>\n      <td>Jarryd Son</td>\n      <td>Menzies 10</td>\n      <td>Tutorial</td>\n      <td>29-Mar-2021 09:00</td>\n      <td>225</td>\n    </tr>\n    <tr>\n      <th>15</th>\n      <td>EEE2045F Tutorial Group 1</td>\n      <td>Infected</td>\n      <td>INFECT001</td>\n      <td>INFECT001@myuct.ac.za</td>\n      <td>Register Testing</td>\n      <td>2021-03-29 09:00:00</td>\n      <td>225</td>\n      <td>4</td>\n      <td>NaN</td>\n      <td>Jarryd Son</td>\n      <td>Menzies 10</td>\n      <td>Tutorial</td>\n      <td>29-Mar-2021 09:00</td>\n      <td>225</td>\n    </tr>\n    <tr>\n      <th>16</th>\n      <td>EEE2045F Tutorial Group 1</td>\n      <td>contact1</td>\n      <td>CONTAC001</td>\n      <td>CONTAC001@myuct.ac.za</td>\n      <td>Register Testing</td>\n      <td>2021-03-29 09:00:00</td>\n      <td>225</td>\n      <td>4</td>\n      <td>NaN</td>\n      <td>Jarryd Son</td>\n      <td>Menzies 10</td>\n      <td>Tutorial</td>\n      <td>29-Mar-2021 09:00</td>\n      <td>225</td>\n    </tr>\n    <tr>\n      <th>17</th>\n      <td>EEE2045F Tutorial Group 1</td>\n      <td>contact2</td>\n      <td>CONTAC002</td>\n      <td>CONTAC002@myuct.ac.za</td>\n      <td>Register Testing</td>\n      <td>2021-03-29 09:00:00</td>\n      <td>225</td>\n      <td>4</td>\n      <td>NaN</td>\n      <td>Jarryd Son</td>\n      <td>Menzies 10</td>\n      <td>Tutorial</td>\n      <td>29-Mar-2021 09:00</td>\n      <td>225</td>\n    </tr>\n    <tr>\n      <th>18</th>\n      <td>EEE2045F Prac 2</td>\n      <td>Son, Jarryd</td>\n      <td>01445766</td>\n      <td>jarryd.son@uct.ac.za</td>\n      <td>Register Testing</td>\n      <td>2021-05-31 14:00:00</td>\n      <td>105</td>\n      <td>4</td>\n      <td>NaN</td>\n      <td>Jarryd Son</td>\n      <td>White Lab</td>\n      <td>Practical</td>\n      <td>2021-05-31 08:00:00</td>\n      <td>465</td>\n    </tr>\n    <tr>\n      <th>19</th>\n      <td>EEE2045F Prac 2</td>\n      <td>Infected</td>\n      <td>INFECT001</td>\n      <td>INFECT001@myuct.ac.za</td>\n      <td>Register Testing</td>\n      <td>2021-05-31 14:00:00</td>\n      <td>105</td>\n      <td>4</td>\n      <td>NaN</td>\n      <td>Jarryd Son</td>\n      <td>White Lab</td>\n      <td>Practical</td>\n      <td>2021-05-31 08:00:00</td>\n      <td>465</td>\n    </tr>\n    <tr>\n      <th>20</th>\n      <td>EEE2045F Prac 2</td>\n      <td>contact2</td>\n      <td>CONTAC002</td>\n      <td>CONTAC002@myuct.ac.za</td>\n      <td>Register Testing</td>\n      <td>2021-05-31 14:00:00</td>\n      <td>105</td>\n      <td>4</td>\n      <td>NaN</td>\n      <td>Jarryd Son</td>\n      <td>White Lab</td>\n      <td>Practical</td>\n      <td>2021-05-31 08:00:00</td>\n      <td>465</td>\n    </tr>\n    <tr>\n      <th>21</th>\n      <td>EEE2045F Prac 2</td>\n      <td>contact3</td>\n      <td>CONTAC003</td>\n      <td>CONTAC003@myuct.ac.za</td>\n      <td>Register Testing</td>\n      <td>2021-05-31 14:00:00</td>\n      <td>105</td>\n      <td>4</td>\n      <td>NaN</td>\n      <td>Jarryd Son</td>\n      <td>White Lab</td>\n      <td>Practical</td>\n      <td>2021-05-31 08:00:00</td>\n      <td>465</td>\n    </tr>\n  </tbody>\n</table>\n</div>"
     },
     "metadata": {},
     "execution_count": 6
    }
   ],
   "source": [
    " class_register[\n",
    "     class_register['Appointment_Time'].isin(positive_time_location.values[:, 0]) \n",
    "     & class_register['Location'].isin(positive_time_location.values[:, 1])\n",
    "     ]"
   ]
  },
  {
   "cell_type": "code",
   "execution_count": 14,
   "metadata": {},
   "outputs": [],
   "source": [
    "positive_confirmed_date = pd.to_datetime('2021-05-20')\n",
    "n_days_prior_positive = pd.Timedelta(days=90) #CDC recommends 90 days\n",
    "contact_tracing_start_date = positive_confirmed_date - n_days_prior_positive"
   ]
  },
  {
   "cell_type": "code",
   "execution_count": 19,
   "metadata": {},
   "outputs": [],
   "source": [
    "all_contact_events = class_register[\n",
    "                        class_register['Appointment_Time'].isin(positive_time_location.values[:, 0]) \n",
    "                        & class_register['Location'].isin(positive_time_location.values[:, 1])\n",
    "                        ]\n",
    "all_recent_contact_events = all_contact_events[all_contact_events.Appointment_Time > contact_tracing_start_date]\n"
   ]
  },
  {
   "cell_type": "code",
   "execution_count": 24,
   "metadata": {},
   "outputs": [
    {
     "output_type": "execute_result",
     "data": {
      "text/plain": [
       "      Appointment_Time    Location\n",
       "0  2021-03-22 09:00:00  Menzies 10\n",
       "1  2021-03-22 09:00:00  Menzies 10\n",
       "2  2021-03-22 09:00:00  Menzies 10\n",
       "3  2021-03-22 09:00:00  Menzies 10\n",
       "7  2021-03-23 11:00:00   White Lab\n",
       "8  2021-03-23 11:00:00   White Lab\n",
       "9  2021-03-23 11:00:00   White Lab\n",
       "10 2021-03-23 11:00:00   White Lab\n",
       "14 2021-03-29 09:00:00  Menzies 10\n",
       "15 2021-03-29 09:00:00  Menzies 10\n",
       "16 2021-03-29 09:00:00  Menzies 10\n",
       "17 2021-03-29 09:00:00  Menzies 10\n",
       "18 2021-05-31 14:00:00   White Lab\n",
       "19 2021-05-31 14:00:00   White Lab\n",
       "20 2021-05-31 14:00:00   White Lab\n",
       "21 2021-05-31 14:00:00   White Lab"
      ],
      "text/html": "<div>\n<style scoped>\n    .dataframe tbody tr th:only-of-type {\n        vertical-align: middle;\n    }\n\n    .dataframe tbody tr th {\n        vertical-align: top;\n    }\n\n    .dataframe thead th {\n        text-align: right;\n    }\n</style>\n<table border=\"1\" class=\"dataframe\">\n  <thead>\n    <tr style=\"text-align: right;\">\n      <th></th>\n      <th>Appointment_Time</th>\n      <th>Location</th>\n    </tr>\n  </thead>\n  <tbody>\n    <tr>\n      <th>0</th>\n      <td>2021-03-22 09:00:00</td>\n      <td>Menzies 10</td>\n    </tr>\n    <tr>\n      <th>1</th>\n      <td>2021-03-22 09:00:00</td>\n      <td>Menzies 10</td>\n    </tr>\n    <tr>\n      <th>2</th>\n      <td>2021-03-22 09:00:00</td>\n      <td>Menzies 10</td>\n    </tr>\n    <tr>\n      <th>3</th>\n      <td>2021-03-22 09:00:00</td>\n      <td>Menzies 10</td>\n    </tr>\n    <tr>\n      <th>7</th>\n      <td>2021-03-23 11:00:00</td>\n      <td>White Lab</td>\n    </tr>\n    <tr>\n      <th>8</th>\n      <td>2021-03-23 11:00:00</td>\n      <td>White Lab</td>\n    </tr>\n    <tr>\n      <th>9</th>\n      <td>2021-03-23 11:00:00</td>\n      <td>White Lab</td>\n    </tr>\n    <tr>\n      <th>10</th>\n      <td>2021-03-23 11:00:00</td>\n      <td>White Lab</td>\n    </tr>\n    <tr>\n      <th>14</th>\n      <td>2021-03-29 09:00:00</td>\n      <td>Menzies 10</td>\n    </tr>\n    <tr>\n      <th>15</th>\n      <td>2021-03-29 09:00:00</td>\n      <td>Menzies 10</td>\n    </tr>\n    <tr>\n      <th>16</th>\n      <td>2021-03-29 09:00:00</td>\n      <td>Menzies 10</td>\n    </tr>\n    <tr>\n      <th>17</th>\n      <td>2021-03-29 09:00:00</td>\n      <td>Menzies 10</td>\n    </tr>\n    <tr>\n      <th>18</th>\n      <td>2021-05-31 14:00:00</td>\n      <td>White Lab</td>\n    </tr>\n    <tr>\n      <th>19</th>\n      <td>2021-05-31 14:00:00</td>\n      <td>White Lab</td>\n    </tr>\n    <tr>\n      <th>20</th>\n      <td>2021-05-31 14:00:00</td>\n      <td>White Lab</td>\n    </tr>\n    <tr>\n      <th>21</th>\n      <td>2021-05-31 14:00:00</td>\n      <td>White Lab</td>\n    </tr>\n  </tbody>\n</table>\n</div>"
     },
     "metadata": {},
     "execution_count": 24
    }
   ],
   "source": [
    "all_recent_contact_events[['Appointment_Time', 'Location']]"
   ]
  },
  {
   "cell_type": "code",
   "execution_count": 21,
   "metadata": {},
   "outputs": [
    {
     "output_type": "execute_result",
     "data": {
      "text/plain": [
       "                   Event_Name Attendee_Name Attendees'_User_ID  \\\n",
       "0   EEE2045F Tutorial Group 1   Son, Jarryd           01445766   \n",
       "1   EEE2045F Tutorial Group 1      Infected          INFECT001   \n",
       "2   EEE2045F Tutorial Group 1      contact1          CONTAC001   \n",
       "3   EEE2045F Tutorial Group 1      contact2          CONTAC002   \n",
       "10            EEE2045F Prac 1      contact3          CONTAC003   \n",
       "\n",
       "                    Email        Site_Title    Appointment_Time  \\\n",
       "0    jarryd.son@uct.ac.za  Register Testing 2021-03-22 09:00:00   \n",
       "1   INFECT001@myuct.ac.za  Register Testing 2021-03-22 09:00:00   \n",
       "2   CONTAC001@myuct.ac.za  Register Testing 2021-03-22 09:00:00   \n",
       "3   CONTAC002@myuct.ac.za  Register Testing 2021-03-22 09:00:00   \n",
       "10  CONTAC003@myuct.ac.za  Register Testing 2021-03-23 11:00:00   \n",
       "\n",
       "    Duration_(min)  #Num_Attendees_in_Slot  Attendees'_Comment   Organizer  \\\n",
       "0              225                       4                 NaN  Jarryd Son   \n",
       "1              225                       4                 NaN  Jarryd Son   \n",
       "2              225                       4                 NaN  Jarryd Son   \n",
       "3              225                       4                 NaN  Jarryd Son   \n",
       "10             105                       4                 NaN  Jarryd Son   \n",
       "\n",
       "      Location   Category   Event_Start_Time  Event_Duration_(min)  \n",
       "0   Menzies 10   Tutorial  22-Mar-2021 09:00                   225  \n",
       "1   Menzies 10   Tutorial  22-Mar-2021 09:00                   225  \n",
       "2   Menzies 10   Tutorial  22-Mar-2021 09:00                   225  \n",
       "3   Menzies 10   Tutorial  22-Mar-2021 09:00                   225  \n",
       "10   White Lab  Practical  23-Mar-2021 08:01                   466  "
      ],
      "text/html": "<div>\n<style scoped>\n    .dataframe tbody tr th:only-of-type {\n        vertical-align: middle;\n    }\n\n    .dataframe tbody tr th {\n        vertical-align: top;\n    }\n\n    .dataframe thead th {\n        text-align: right;\n    }\n</style>\n<table border=\"1\" class=\"dataframe\">\n  <thead>\n    <tr style=\"text-align: right;\">\n      <th></th>\n      <th>Event_Name</th>\n      <th>Attendee_Name</th>\n      <th>Attendees'_User_ID</th>\n      <th>Email</th>\n      <th>Site_Title</th>\n      <th>Appointment_Time</th>\n      <th>Duration_(min)</th>\n      <th>#Num_Attendees_in_Slot</th>\n      <th>Attendees'_Comment</th>\n      <th>Organizer</th>\n      <th>Location</th>\n      <th>Category</th>\n      <th>Event_Start_Time</th>\n      <th>Event_Duration_(min)</th>\n    </tr>\n  </thead>\n  <tbody>\n    <tr>\n      <th>0</th>\n      <td>EEE2045F Tutorial Group 1</td>\n      <td>Son, Jarryd</td>\n      <td>01445766</td>\n      <td>jarryd.son@uct.ac.za</td>\n      <td>Register Testing</td>\n      <td>2021-03-22 09:00:00</td>\n      <td>225</td>\n      <td>4</td>\n      <td>NaN</td>\n      <td>Jarryd Son</td>\n      <td>Menzies 10</td>\n      <td>Tutorial</td>\n      <td>22-Mar-2021 09:00</td>\n      <td>225</td>\n    </tr>\n    <tr>\n      <th>1</th>\n      <td>EEE2045F Tutorial Group 1</td>\n      <td>Infected</td>\n      <td>INFECT001</td>\n      <td>INFECT001@myuct.ac.za</td>\n      <td>Register Testing</td>\n      <td>2021-03-22 09:00:00</td>\n      <td>225</td>\n      <td>4</td>\n      <td>NaN</td>\n      <td>Jarryd Son</td>\n      <td>Menzies 10</td>\n      <td>Tutorial</td>\n      <td>22-Mar-2021 09:00</td>\n      <td>225</td>\n    </tr>\n    <tr>\n      <th>2</th>\n      <td>EEE2045F Tutorial Group 1</td>\n      <td>contact1</td>\n      <td>CONTAC001</td>\n      <td>CONTAC001@myuct.ac.za</td>\n      <td>Register Testing</td>\n      <td>2021-03-22 09:00:00</td>\n      <td>225</td>\n      <td>4</td>\n      <td>NaN</td>\n      <td>Jarryd Son</td>\n      <td>Menzies 10</td>\n      <td>Tutorial</td>\n      <td>22-Mar-2021 09:00</td>\n      <td>225</td>\n    </tr>\n    <tr>\n      <th>3</th>\n      <td>EEE2045F Tutorial Group 1</td>\n      <td>contact2</td>\n      <td>CONTAC002</td>\n      <td>CONTAC002@myuct.ac.za</td>\n      <td>Register Testing</td>\n      <td>2021-03-22 09:00:00</td>\n      <td>225</td>\n      <td>4</td>\n      <td>NaN</td>\n      <td>Jarryd Son</td>\n      <td>Menzies 10</td>\n      <td>Tutorial</td>\n      <td>22-Mar-2021 09:00</td>\n      <td>225</td>\n    </tr>\n    <tr>\n      <th>10</th>\n      <td>EEE2045F Prac 1</td>\n      <td>contact3</td>\n      <td>CONTAC003</td>\n      <td>CONTAC003@myuct.ac.za</td>\n      <td>Register Testing</td>\n      <td>2021-03-23 11:00:00</td>\n      <td>105</td>\n      <td>4</td>\n      <td>NaN</td>\n      <td>Jarryd Son</td>\n      <td>White Lab</td>\n      <td>Practical</td>\n      <td>23-Mar-2021 08:01</td>\n      <td>466</td>\n    </tr>\n  </tbody>\n</table>\n</div>"
     },
     "metadata": {},
     "execution_count": 21
    }
   ],
   "source": [
    "all_recent_contact_events.drop_duplicates(subset=[\"Attendees\\'_User_ID\"]) #Unique cases"
   ]
  },
  {
   "cell_type": "code",
   "execution_count": null,
   "metadata": {},
   "outputs": [],
   "source": []
  }
 ]
}